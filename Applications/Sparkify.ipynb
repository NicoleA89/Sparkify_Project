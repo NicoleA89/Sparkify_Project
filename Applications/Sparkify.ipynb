{
 "cells": [
  {
   "cell_type": "markdown",
   "metadata": {},
   "source": [
    "# Sparkify Project Workspace\n",
    "This workspace contains a tiny subset (128MB) of the full dataset available (12GB). Feel free to use this workspace to build your project, or to explore a smaller subset with Spark before deploying your cluster on the cloud. Instructions for setting up your Spark cluster is included in the last lesson of the Extracurricular Spark Course content.\n",
    "\n",
    "You can follow the steps below to guide your data analysis and model building portion of this project."
   ]
  },
  {
   "cell_type": "code",
   "execution_count": 1,
   "metadata": {},
   "outputs": [],
   "source": [
    "# Import relevant libraries\n",
    "import pandas as pd\n",
    "import numpy as np\n",
    "import matplotlib.pyplot as plt\n",
    "import seaborn as sns;\n",
    "\n",
    "%matplotlib inline\n",
    "\n",
    "from pyspark.sql import SparkSession, SQLContext\n",
    "from pyspark.ml import Pipeline\n",
    "from pyspark.ml.evaluation import MulticlassClassificationEvaluator\n",
    "from pyspark.ml.classification import LogisticRegression, RandomForestClassifier, GBTClassifier\n",
    "from pyspark.ml.feature import RegexTokenizer, CountVectorizer, IDF, \\\n",
    "    StringIndexer, VectorAssembler, Normalizer, StandardScaler\n",
    "from pyspark.sql.functions import udf\n",
    "from pyspark.sql.types import IntegerType"
   ]
  },
  {
   "cell_type": "code",
   "execution_count": 2,
   "metadata": {},
   "outputs": [],
   "source": [
    "# Set up spark session (master node is on local machine).\n",
    "spark = SparkSession \\\n",
    "    .builder \\\n",
    "    .appName(\"Sparkify\") \\\n",
    "    .getOrCreate()"
   ]
  },
  {
   "cell_type": "markdown",
   "metadata": {},
   "source": [
    "# Load and Clean Dataset\n",
    "In this workspace, the mini-dataset file is `mini_sparkify_event_data.json`. Next steps: Loading and cleaning the dataset and checking for invalid or missing data. "
   ]
  },
  {
   "cell_type": "code",
   "execution_count": 3,
   "metadata": {},
   "outputs": [],
   "source": [
    "# Read the sparkify dataset\n",
    "event_data = \"mini_sparkify_event_data.json\"\n",
    "df = spark.read.json(event_data)"
   ]
  },
  {
   "cell_type": "code",
   "execution_count": 4,
   "metadata": {},
   "outputs": [
    {
     "name": "stdout",
     "output_type": "stream",
     "text": [
      "(286500, 18)\n"
     ]
    }
   ],
   "source": [
    "# Show number of rows and columns\n",
    "print((df.count(), len(df.columns)))"
   ]
  },
  {
   "cell_type": "code",
   "execution_count": 5,
   "metadata": {},
   "outputs": [
    {
     "name": "stdout",
     "output_type": "stream",
     "text": [
      "root\n",
      " |-- artist: string (nullable = true)\n",
      " |-- auth: string (nullable = true)\n",
      " |-- firstName: string (nullable = true)\n",
      " |-- gender: string (nullable = true)\n",
      " |-- itemInSession: long (nullable = true)\n",
      " |-- lastName: string (nullable = true)\n",
      " |-- length: double (nullable = true)\n",
      " |-- level: string (nullable = true)\n",
      " |-- location: string (nullable = true)\n",
      " |-- method: string (nullable = true)\n",
      " |-- page: string (nullable = true)\n",
      " |-- registration: long (nullable = true)\n",
      " |-- sessionId: long (nullable = true)\n",
      " |-- song: string (nullable = true)\n",
      " |-- status: long (nullable = true)\n",
      " |-- ts: long (nullable = true)\n",
      " |-- userAgent: string (nullable = true)\n",
      " |-- userId: string (nullable = true)\n",
      "\n"
     ]
    }
   ],
   "source": [
    "# Show schema of dataset\n",
    "df.printSchema()"
   ]
  },
  {
   "cell_type": "code",
   "execution_count": 6,
   "metadata": {
    "scrolled": true
   },
   "outputs": [
    {
     "data": {
      "text/html": [
       "<div>\n",
       "<style scoped>\n",
       "    .dataframe tbody tr th:only-of-type {\n",
       "        vertical-align: middle;\n",
       "    }\n",
       "\n",
       "    .dataframe tbody tr th {\n",
       "        vertical-align: top;\n",
       "    }\n",
       "\n",
       "    .dataframe thead th {\n",
       "        text-align: right;\n",
       "    }\n",
       "</style>\n",
       "<table border=\"1\" class=\"dataframe\">\n",
       "  <thead>\n",
       "    <tr style=\"text-align: right;\">\n",
       "      <th></th>\n",
       "      <th>0</th>\n",
       "      <th>1</th>\n",
       "      <th>2</th>\n",
       "      <th>3</th>\n",
       "      <th>4</th>\n",
       "    </tr>\n",
       "  </thead>\n",
       "  <tbody>\n",
       "    <tr>\n",
       "      <th>summary</th>\n",
       "      <td>count</td>\n",
       "      <td>mean</td>\n",
       "      <td>stddev</td>\n",
       "      <td>min</td>\n",
       "      <td>max</td>\n",
       "    </tr>\n",
       "    <tr>\n",
       "      <th>artist</th>\n",
       "      <td>228108</td>\n",
       "      <td>551.0852017937219</td>\n",
       "      <td>1217.7693079161374</td>\n",
       "      <td>!!!</td>\n",
       "      <td>ÃÂlafur Arnalds</td>\n",
       "    </tr>\n",
       "    <tr>\n",
       "      <th>auth</th>\n",
       "      <td>286500</td>\n",
       "      <td>None</td>\n",
       "      <td>None</td>\n",
       "      <td>Cancelled</td>\n",
       "      <td>Logged Out</td>\n",
       "    </tr>\n",
       "    <tr>\n",
       "      <th>firstName</th>\n",
       "      <td>278154</td>\n",
       "      <td>None</td>\n",
       "      <td>None</td>\n",
       "      <td>Adelaida</td>\n",
       "      <td>Zyonna</td>\n",
       "    </tr>\n",
       "    <tr>\n",
       "      <th>gender</th>\n",
       "      <td>278154</td>\n",
       "      <td>None</td>\n",
       "      <td>None</td>\n",
       "      <td>F</td>\n",
       "      <td>M</td>\n",
       "    </tr>\n",
       "    <tr>\n",
       "      <th>itemInSession</th>\n",
       "      <td>286500</td>\n",
       "      <td>114.41421291448516</td>\n",
       "      <td>129.76726201140994</td>\n",
       "      <td>0</td>\n",
       "      <td>1321</td>\n",
       "    </tr>\n",
       "    <tr>\n",
       "      <th>lastName</th>\n",
       "      <td>278154</td>\n",
       "      <td>None</td>\n",
       "      <td>None</td>\n",
       "      <td>Adams</td>\n",
       "      <td>Wright</td>\n",
       "    </tr>\n",
       "    <tr>\n",
       "      <th>length</th>\n",
       "      <td>228108</td>\n",
       "      <td>249.1171819778458</td>\n",
       "      <td>99.23517921058361</td>\n",
       "      <td>0.78322</td>\n",
       "      <td>3024.66567</td>\n",
       "    </tr>\n",
       "    <tr>\n",
       "      <th>level</th>\n",
       "      <td>286500</td>\n",
       "      <td>None</td>\n",
       "      <td>None</td>\n",
       "      <td>free</td>\n",
       "      <td>paid</td>\n",
       "    </tr>\n",
       "    <tr>\n",
       "      <th>location</th>\n",
       "      <td>278154</td>\n",
       "      <td>None</td>\n",
       "      <td>None</td>\n",
       "      <td>Albany, OR</td>\n",
       "      <td>Winston-Salem, NC</td>\n",
       "    </tr>\n",
       "    <tr>\n",
       "      <th>method</th>\n",
       "      <td>286500</td>\n",
       "      <td>None</td>\n",
       "      <td>None</td>\n",
       "      <td>GET</td>\n",
       "      <td>PUT</td>\n",
       "    </tr>\n",
       "    <tr>\n",
       "      <th>page</th>\n",
       "      <td>286500</td>\n",
       "      <td>None</td>\n",
       "      <td>None</td>\n",
       "      <td>About</td>\n",
       "      <td>Upgrade</td>\n",
       "    </tr>\n",
       "    <tr>\n",
       "      <th>registration</th>\n",
       "      <td>278154</td>\n",
       "      <td>1.5353588340844272E12</td>\n",
       "      <td>3.291321616327586E9</td>\n",
       "      <td>1521380675000</td>\n",
       "      <td>1543247354000</td>\n",
       "    </tr>\n",
       "    <tr>\n",
       "      <th>sessionId</th>\n",
       "      <td>286500</td>\n",
       "      <td>1041.526554973822</td>\n",
       "      <td>726.7762634630741</td>\n",
       "      <td>1</td>\n",
       "      <td>2474</td>\n",
       "    </tr>\n",
       "    <tr>\n",
       "      <th>song</th>\n",
       "      <td>228108</td>\n",
       "      <td>Infinity</td>\n",
       "      <td>NaN</td>\n",
       "      <td>ÃÂg ÃÂtti GrÃÂ¡a ÃÂsku</td>\n",
       "      <td>ÃÂau hafa sloppiÃÂ° undan ÃÂ¾unga myrkursins</td>\n",
       "    </tr>\n",
       "    <tr>\n",
       "      <th>status</th>\n",
       "      <td>286500</td>\n",
       "      <td>210.05459685863875</td>\n",
       "      <td>31.50507848842214</td>\n",
       "      <td>200</td>\n",
       "      <td>404</td>\n",
       "    </tr>\n",
       "    <tr>\n",
       "      <th>ts</th>\n",
       "      <td>286500</td>\n",
       "      <td>1.5409568898104834E12</td>\n",
       "      <td>1.5075439608226302E9</td>\n",
       "      <td>1538352117000</td>\n",
       "      <td>1543799476000</td>\n",
       "    </tr>\n",
       "    <tr>\n",
       "      <th>userAgent</th>\n",
       "      <td>278154</td>\n",
       "      <td>None</td>\n",
       "      <td>None</td>\n",
       "      <td>\"Mozilla/5.0 (Macintosh; Intel Mac OS X 10_10)...</td>\n",
       "      <td>Mozilla/5.0 (compatible; MSIE 9.0; Windows NT ...</td>\n",
       "    </tr>\n",
       "    <tr>\n",
       "      <th>userId</th>\n",
       "      <td>286500</td>\n",
       "      <td>59682.02278593872</td>\n",
       "      <td>109091.9499991047</td>\n",
       "      <td></td>\n",
       "      <td>99</td>\n",
       "    </tr>\n",
       "  </tbody>\n",
       "</table>\n",
       "</div>"
      ],
      "text/plain": [
       "                    0                      1                     2  \\\n",
       "summary         count                   mean                stddev   \n",
       "artist         228108      551.0852017937219    1217.7693079161374   \n",
       "auth           286500                   None                  None   \n",
       "firstName      278154                   None                  None   \n",
       "gender         278154                   None                  None   \n",
       "itemInSession  286500     114.41421291448516    129.76726201140994   \n",
       "lastName       278154                   None                  None   \n",
       "length         228108      249.1171819778458     99.23517921058361   \n",
       "level          286500                   None                  None   \n",
       "location       278154                   None                  None   \n",
       "method         286500                   None                  None   \n",
       "page           286500                   None                  None   \n",
       "registration   278154  1.5353588340844272E12   3.291321616327586E9   \n",
       "sessionId      286500      1041.526554973822     726.7762634630741   \n",
       "song           228108               Infinity                   NaN   \n",
       "status         286500     210.05459685863875     31.50507848842214   \n",
       "ts             286500  1.5409568898104834E12  1.5075439608226302E9   \n",
       "userAgent      278154                   None                  None   \n",
       "userId         286500      59682.02278593872     109091.9499991047   \n",
       "\n",
       "                                                               3  \\\n",
       "summary                                                      min   \n",
       "artist                                                       !!!   \n",
       "auth                                                   Cancelled   \n",
       "firstName                                               Adelaida   \n",
       "gender                                                         F   \n",
       "itemInSession                                                  0   \n",
       "lastName                                                   Adams   \n",
       "length                                                   0.78322   \n",
       "level                                                       free   \n",
       "location                                              Albany, OR   \n",
       "method                                                       GET   \n",
       "page                                                       About   \n",
       "registration                                       1521380675000   \n",
       "sessionId                                                      1   \n",
       "song                              \n",
       "ÃÂg ÃÂtti GrÃÂ¡a ÃÂsku   \n",
       "status                                                       200   \n",
       "ts                                                 1538352117000   \n",
       "userAgent      \"Mozilla/5.0 (Macintosh; Intel Mac OS X 10_10)...   \n",
       "userId                                                             \n",
       "\n",
       "                                                               4  \n",
       "summary                                                      max  \n",
       "artist                                         ÃÂlafur Arnalds  \n",
       "auth                                                  Logged Out  \n",
       "firstName                                                 Zyonna  \n",
       "gender                                                         M  \n",
       "itemInSession                                               1321  \n",
       "lastName                                                  Wright  \n",
       "length                                                3024.66567  \n",
       "level                                                       paid  \n",
       "location                                       Winston-Salem, NC  \n",
       "method                                                       PUT  \n",
       "page                                                     Upgrade  \n",
       "registration                                       1543247354000  \n",
       "sessionId                                                   2474  \n",
       "song            ÃÂau hafa sloppiÃÂ° undan ÃÂ¾unga myrkursins  \n",
       "status                                                       404  \n",
       "ts                                                 1543799476000  \n",
       "userAgent      Mozilla/5.0 (compatible; MSIE 9.0; Windows NT ...  \n",
       "userId                                                        99  "
      ]
     },
     "execution_count": 6,
     "metadata": {},
     "output_type": "execute_result"
    }
   ],
   "source": [
    "# Take a look at the columns in the dataset\n",
    "df.describe().toPandas().transpose()"
   ]
  },
  {
   "cell_type": "code",
   "execution_count": 7,
   "metadata": {},
   "outputs": [],
   "source": [
    "# Create a new table for the cleaning of the dataset\n",
    "df.createOrReplaceTempView('data_tbl')"
   ]
  },
  {
   "cell_type": "code",
   "execution_count": 8,
   "metadata": {},
   "outputs": [
    {
     "name": "stdout",
     "output_type": "stream",
     "text": [
      "+-------------+\n",
      "|count(userId)|\n",
      "+-------------+\n",
      "|            0|\n",
      "+-------------+\n",
      "\n"
     ]
    }
   ],
   "source": [
    "# Show missing user IDs\n",
    "spark.sql(\"SELECT COUNT(userId) FROM data_tbl\\\n",
    "              WHERE userId IS NULL\").show()"
   ]
  },
  {
   "cell_type": "code",
   "execution_count": 9,
   "metadata": {},
   "outputs": [
    {
     "name": "stdout",
     "output_type": "stream",
     "text": [
      "+-------------+\n",
      "|count(userId)|\n",
      "+-------------+\n",
      "|         8346|\n",
      "+-------------+\n",
      "\n"
     ]
    }
   ],
   "source": [
    "# Show empty user IDs\n",
    "spark.sql(\"SELECT COUNT(userId) FROM data_tbl\\\n",
    "            WHERE userId == ''\").show()"
   ]
  },
  {
   "cell_type": "code",
   "execution_count": 10,
   "metadata": {},
   "outputs": [
    {
     "name": "stdout",
     "output_type": "stream",
     "text": [
      "+-------------+\n",
      "|count(userId)|\n",
      "+-------------+\n",
      "|            0|\n",
      "+-------------+\n",
      "\n"
     ]
    }
   ],
   "source": [
    "# Show missing or empty session IDs\n",
    "spark.sql(\"SELECT COUNT(userId) FROM data_tbl\\\n",
    "            WHERE sessionId == '' OR sessionId IS NULL\").show()"
   ]
  },
  {
   "cell_type": "code",
   "execution_count": 11,
   "metadata": {},
   "outputs": [],
   "source": [
    "# Remove empty user IDs from dataset\n",
    "data = spark.sql(\"SELECT * FROM data_tbl\\\n",
    "            WHERE userId != ''\")"
   ]
  },
  {
   "cell_type": "code",
   "execution_count": 12,
   "metadata": {},
   "outputs": [],
   "source": [
    "# Update the table\n",
    "df.createOrReplaceTempView('data_tbl')"
   ]
  },
  {
   "cell_type": "markdown",
   "metadata": {},
   "source": [
    "# Exploratory Data Analysis\n",
    "Get a better understanding of the data. To provide a formal definition of churn, I start with the investigation of the ‘page’ column:"
   ]
  },
  {
   "cell_type": "code",
   "execution_count": 13,
   "metadata": {},
   "outputs": [
    {
     "data": {
      "text/html": [
       "<div>\n",
       "<style scoped>\n",
       "    .dataframe tbody tr th:only-of-type {\n",
       "        vertical-align: middle;\n",
       "    }\n",
       "\n",
       "    .dataframe tbody tr th {\n",
       "        vertical-align: top;\n",
       "    }\n",
       "\n",
       "    .dataframe thead th {\n",
       "        text-align: right;\n",
       "    }\n",
       "</style>\n",
       "<table border=\"1\" class=\"dataframe\">\n",
       "  <thead>\n",
       "    <tr style=\"text-align: right;\">\n",
       "      <th></th>\n",
       "      <th>page</th>\n",
       "      <th>count(UserId)</th>\n",
       "    </tr>\n",
       "  </thead>\n",
       "  <tbody>\n",
       "    <tr>\n",
       "      <th>0</th>\n",
       "      <td>Cancel</td>\n",
       "      <td>52</td>\n",
       "    </tr>\n",
       "    <tr>\n",
       "      <th>1</th>\n",
       "      <td>Submit Downgrade</td>\n",
       "      <td>63</td>\n",
       "    </tr>\n",
       "    <tr>\n",
       "      <th>2</th>\n",
       "      <td>Thumbs Down</td>\n",
       "      <td>2546</td>\n",
       "    </tr>\n",
       "    <tr>\n",
       "      <th>3</th>\n",
       "      <td>Home</td>\n",
       "      <td>14457</td>\n",
       "    </tr>\n",
       "    <tr>\n",
       "      <th>4</th>\n",
       "      <td>Downgrade</td>\n",
       "      <td>2055</td>\n",
       "    </tr>\n",
       "    <tr>\n",
       "      <th>5</th>\n",
       "      <td>Roll Advert</td>\n",
       "      <td>3933</td>\n",
       "    </tr>\n",
       "    <tr>\n",
       "      <th>6</th>\n",
       "      <td>Logout</td>\n",
       "      <td>3226</td>\n",
       "    </tr>\n",
       "    <tr>\n",
       "      <th>7</th>\n",
       "      <td>Save Settings</td>\n",
       "      <td>310</td>\n",
       "    </tr>\n",
       "    <tr>\n",
       "      <th>8</th>\n",
       "      <td>Cancellation Confirmation</td>\n",
       "      <td>52</td>\n",
       "    </tr>\n",
       "    <tr>\n",
       "      <th>9</th>\n",
       "      <td>About</td>\n",
       "      <td>924</td>\n",
       "    </tr>\n",
       "    <tr>\n",
       "      <th>10</th>\n",
       "      <td>Submit Registration</td>\n",
       "      <td>5</td>\n",
       "    </tr>\n",
       "    <tr>\n",
       "      <th>11</th>\n",
       "      <td>Settings</td>\n",
       "      <td>1514</td>\n",
       "    </tr>\n",
       "    <tr>\n",
       "      <th>12</th>\n",
       "      <td>Login</td>\n",
       "      <td>3241</td>\n",
       "    </tr>\n",
       "    <tr>\n",
       "      <th>13</th>\n",
       "      <td>Register</td>\n",
       "      <td>18</td>\n",
       "    </tr>\n",
       "    <tr>\n",
       "      <th>14</th>\n",
       "      <td>Add to Playlist</td>\n",
       "      <td>6526</td>\n",
       "    </tr>\n",
       "    <tr>\n",
       "      <th>15</th>\n",
       "      <td>Add Friend</td>\n",
       "      <td>4277</td>\n",
       "    </tr>\n",
       "    <tr>\n",
       "      <th>16</th>\n",
       "      <td>NextSong</td>\n",
       "      <td>228108</td>\n",
       "    </tr>\n",
       "    <tr>\n",
       "      <th>17</th>\n",
       "      <td>Thumbs Up</td>\n",
       "      <td>12551</td>\n",
       "    </tr>\n",
       "    <tr>\n",
       "      <th>18</th>\n",
       "      <td>Help</td>\n",
       "      <td>1726</td>\n",
       "    </tr>\n",
       "    <tr>\n",
       "      <th>19</th>\n",
       "      <td>Upgrade</td>\n",
       "      <td>499</td>\n",
       "    </tr>\n",
       "    <tr>\n",
       "      <th>20</th>\n",
       "      <td>Error</td>\n",
       "      <td>258</td>\n",
       "    </tr>\n",
       "    <tr>\n",
       "      <th>21</th>\n",
       "      <td>Submit Upgrade</td>\n",
       "      <td>159</td>\n",
       "    </tr>\n",
       "  </tbody>\n",
       "</table>\n",
       "</div>"
      ],
      "text/plain": [
       "                         page  count(UserId)\n",
       "0                      Cancel             52\n",
       "1            Submit Downgrade             63\n",
       "2                 Thumbs Down           2546\n",
       "3                        Home          14457\n",
       "4                   Downgrade           2055\n",
       "5                 Roll Advert           3933\n",
       "6                      Logout           3226\n",
       "7               Save Settings            310\n",
       "8   Cancellation Confirmation             52\n",
       "9                       About            924\n",
       "10        Submit Registration              5\n",
       "11                   Settings           1514\n",
       "12                      Login           3241\n",
       "13                   Register             18\n",
       "14            Add to Playlist           6526\n",
       "15                 Add Friend           4277\n",
       "16                   NextSong         228108\n",
       "17                  Thumbs Up          12551\n",
       "18                       Help           1726\n",
       "19                    Upgrade            499\n",
       "20                      Error            258\n",
       "21             Submit Upgrade            159"
      ]
     },
     "execution_count": 13,
     "metadata": {},
     "output_type": "execute_result"
    }
   ],
   "source": [
    "# Take a look at the 'page' column\n",
    "spark.sql(\"SELECT page,COUNT(UserId) FROM data_tbl GROUP BY page\").toPandas()"
   ]
  },
  {
   "cell_type": "markdown",
   "metadata": {},
   "source": [
    "### Define churn\n",
    "After the first analysis, I will create a column 'Churn' to use as the label for my model. I will use the 'Cancellation Confirmation' events to define my churn, which happens for both paid and free users. Additionally, I will look into the 'Submit Downgrade' events."
   ]
  },
  {
   "cell_type": "code",
   "execution_count": 14,
   "metadata": {},
   "outputs": [],
   "source": [
    "# Flag users who have visited the ‘Cancel Confirmation’ page\n",
    "\n",
    "df = spark.sql(\"SELECT *,CASE WHEN page == 'Cancellation Confirmation' THEN 1\\\n",
    "            ELSE 0 END AS hasVisitCancel FROM data_tbl\")\n",
    "\n",
    "df.createOrReplaceTempView('data_tbl')"
   ]
  },
  {
   "cell_type": "code",
   "execution_count": 15,
   "metadata": {},
   "outputs": [],
   "source": [
    "churned_users = spark.sql(\"SELECT DISTINCT userID FROM data_tbl\\\n",
    "              WHERE hasVisitCancel = 1\").toPandas().values"
   ]
  },
  {
   "cell_type": "code",
   "execution_count": 16,
   "metadata": {},
   "outputs": [],
   "source": [
    "churned_users = [item[0] for item in churned_users]"
   ]
  },
  {
   "cell_type": "code",
   "execution_count": 17,
   "metadata": {},
   "outputs": [
    {
     "data": {
      "text/plain": [
       "['125', '51', '54', '100014', '101']"
      ]
     },
     "execution_count": 17,
     "metadata": {},
     "output_type": "execute_result"
    }
   ],
   "source": [
    "# Show some examples of churned users\n",
    "churned_users[0:5]"
   ]
  },
  {
   "cell_type": "code",
   "execution_count": 18,
   "metadata": {},
   "outputs": [
    {
     "data": {
      "text/plain": [
       "<function __main__.<lambda>(user)>"
      ]
     },
     "execution_count": 18,
     "metadata": {},
     "output_type": "execute_result"
    }
   ],
   "source": [
    "# Define the column 'churn' by flagging all churned users with a 1 and 0 otherwise\n",
    "has_churned = lambda user: 1 if user in churned_users else 0\n",
    "spark.udf.register('has_churned', has_churned)"
   ]
  },
  {
   "cell_type": "code",
   "execution_count": 19,
   "metadata": {},
   "outputs": [],
   "source": [
    "df = spark.sql(\"SELECT *,has_churned(userId) as churn FROM data_tbl\")\n",
    "\n",
    "df.createOrReplaceTempView('data_tbl')"
   ]
  },
  {
   "cell_type": "code",
   "execution_count": 20,
   "metadata": {},
   "outputs": [
    {
     "name": "stdout",
     "output_type": "stream",
     "text": [
      "+-----+----------------------+\n",
      "|churn|count(DISTINCT userId)|\n",
      "+-----+----------------------+\n",
      "|    0|                   174|\n",
      "|    1|                    52|\n",
      "+-----+----------------------+\n",
      "\n"
     ]
    }
   ],
   "source": [
    "# Check number of churned and non-churned users\n",
    "spark.sql(\"SELECT churn,count(distinct userId) FROM data_tbl GROUP BY churn\").show()"
   ]
  },
  {
   "cell_type": "code",
   "execution_count": 21,
   "metadata": {},
   "outputs": [
    {
     "name": "stdout",
     "output_type": "stream",
     "text": [
      "+-------------------+\n",
      "|count_of_Uniq_users|\n",
      "+-------------------+\n",
      "|                226|\n",
      "+-------------------+\n",
      "\n"
     ]
    }
   ],
   "source": [
    "# Show number of unique users\n",
    "spark.sql('SELECT COUNT(DISTINCT userId) AS count_of_Uniq_users  FROM data_tbl').show()"
   ]
  },
  {
   "cell_type": "code",
   "execution_count": 22,
   "metadata": {},
   "outputs": [
    {
     "data": {
      "image/png": "[encoded data removed]",
      "text/plain": [
       "<matplotlib.figure.Figure at 0x7f7f88fc81d0>"
      ]
     },
     "metadata": {
      "needs_background": "light"
     },
     "output_type": "display_data"
    }
   ],
   "source": [
    "# Visualize the number of non-churned and churned users\n",
    "df_vs_class=spark.sql(\"select churn,count(distinct(userId)) AS Uniq_User_Count from data_tbl group by churn\").toPandas()\n",
    "\n",
    "plt.title(\"Non-churned vs churned users\")\n",
    "sns.barplot(x=\"churn\", y=\"Uniq_User_Count\", data=df_vs_class,palette=\"muted\")\n",
    "plt.show();"
   ]
  },
  {
   "cell_type": "code",
   "execution_count": 23,
   "metadata": {},
   "outputs": [],
   "source": [
    "# Take a look at users who have visited the 'Submit Downgrade' page\n",
    "user_with_downgrade = spark.sql(\"SELECT DISTINCT userId FROM data_tbl WHERE page = 'Submit Downgrade'\")\n",
    "user_with_downgrade = user_with_downgrade.toPandas()['userId'].values"
   ]
  },
  {
   "cell_type": "code",
   "execution_count": 24,
   "metadata": {},
   "outputs": [
    {
     "data": {
      "text/plain": [
       "<function __main__.<lambda>(user)>"
      ]
     },
     "execution_count": 24,
     "metadata": {},
     "output_type": "execute_result"
    }
   ],
   "source": [
    "# Define the column 'churn' by flagging all churned users with a 1 and 0 otherwise\n",
    "has_sub_downgrade = udf(lambda user: 1 if user in user_with_downgrade else 0, IntegerType())\n",
    "spark.udf.register('has_sub_downgrade', has_sub_downgrade)"
   ]
  },
  {
   "cell_type": "code",
   "execution_count": 25,
   "metadata": {},
   "outputs": [
    {
     "name": "stdout",
     "output_type": "stream",
     "text": [
      "+-----+-----------------------------------------------------------------------------------------------+\n",
      "|churn|(CAST(sum(CAST(hasSubDowngrade AS BIGINT)) AS DOUBLE) / CAST(count(DISTINCT userId) AS DOUBLE))|\n",
      "+-----+-----------------------------------------------------------------------------------------------+\n",
      "|    0|                                                                            0.22988505747126436|\n",
      "|    1|                                                                            0.17307692307692307|\n",
      "+-----+-----------------------------------------------------------------------------------------------+\n",
      "\n"
     ]
    }
   ],
   "source": [
    "# Check the distribution of churned and non-churned users for the feature 'Submit Downgrage'\n",
    "df = spark.sql(\"SELECT *,has_sub_downgrade(userId) AS hasSubDowngrade FROM data_tbl\")\n",
    "df.createOrReplaceTempView('data_tbl')\n",
    "\n",
    "feature_downgrade = spark.sql(\"SELECT DISTINCT userId,hasSubDowngrade,churn FROM data_tbl\")\n",
    "feature_downgrade.createOrReplaceTempView('feature_downgrade_tbl')\n",
    "\n",
    "spark.sql(\"SELECT churn, sum(hasSubDowngrade)/count(distinct userId) FROM feature_downgrade_tbl GROUP BY churn\").show()"
   ]
  },
  {
   "cell_type": "markdown",
   "metadata": {},
   "source": [
    "There is no big difference in submitting a downgrade for churned and non-churned users. Non-churned users submit downgrades slightly more often. So I will not include the 'Submit Downgrade' indicator as a feature."
   ]
  },
  {
   "cell_type": "markdown",
   "metadata": {},
   "source": [
    "## Feature Engineering\n",
    "Looking for features to provide signals if a user will churn potentially."
   ]
  },
  {
   "cell_type": "markdown",
   "metadata": {},
   "source": [
    "### Feature 1 - Usage Time"
   ]
  },
  {
   "cell_type": "code",
   "execution_count": 26,
   "metadata": {},
   "outputs": [
    {
     "name": "stdout",
     "output_type": "stream",
     "text": [
      "+-----+-----------------+\n",
      "|churn|        usageTime|\n",
      "+-----+-----------------+\n",
      "|    0|276166.9374678033|\n",
      "|    1|174014.2685513462|\n",
      "+-----+-----------------+\n",
      "\n"
     ]
    }
   ],
   "source": [
    "# Assumption: Churned users have a lower usage time\n",
    "feature_usage_time = spark.sql(\"SELECT churn,sum(length)/count(distinct userID) AS usageTime FROM data_tbl\\\n",
    "                        WHERE page = 'NextSong' GROUP BY churn\").show();\n",
    "\n",
    "usage_time = spark.sql(\"SELECT churn,sum(length)/count(distinct userId) AS usageTime FROM data_tbl\\\n",
    "                        WHERE page = 'NextSong' GROUP BY churn\").toPandas();\n",
    "\n",
    "feature_usage_time = spark.sql(\"SELECT DISTINCT userId,sum(nvl(length, 0)) AS usageTime FROM data_tbl\\\n",
    "                        WHERE page = 'NextSong' GROUP BY userId\");\n",
    "\n",
    "\n",
    "feature_usage_time.createOrReplaceTempView('feature_usage_time_tbl')"
   ]
  },
  {
   "cell_type": "code",
   "execution_count": 1,
   "metadata": {},
   "outputs": [
    {
     "ename": "NameError",
     "evalue": "name 'plt' is not defined",
     "output_type": "error",
     "traceback": [
      "\u001b[0;31m---------------------------------------------------------------------------\u001b[0m",
      "\u001b[0;31mNameError\u001b[0m                                 Traceback (most recent call last)",
      "\u001b[0;32m<ipython-input-1-6d69b47c9fae>\u001b[0m in \u001b[0;36m<module>\u001b[0;34m()\u001b[0m\n\u001b[1;32m      1\u001b[0m \u001b[0;31m# Visualize the results\u001b[0m\u001b[0;34m\u001b[0m\u001b[0;34m\u001b[0m\u001b[0m\n\u001b[0;32m----> 2\u001b[0;31m \u001b[0mplt\u001b[0m\u001b[0;34m.\u001b[0m\u001b[0mtitle\u001b[0m\u001b[0;34m(\u001b[0m\u001b[0;34m\"Feature usage time vs target churn\"\u001b[0m\u001b[0;34m)\u001b[0m\u001b[0;34m;\u001b[0m\u001b[0;34m\u001b[0m\u001b[0m\n\u001b[0m\u001b[1;32m      3\u001b[0m \u001b[0msns\u001b[0m\u001b[0;34m.\u001b[0m\u001b[0mbarplot\u001b[0m\u001b[0;34m(\u001b[0m\u001b[0mx\u001b[0m\u001b[0;34m=\u001b[0m\u001b[0;34m\"churn\"\u001b[0m\u001b[0;34m,\u001b[0m \u001b[0my\u001b[0m\u001b[0;34m=\u001b[0m\u001b[0;34m\"usageTime\"\u001b[0m\u001b[0;34m,\u001b[0m \u001b[0mdata\u001b[0m\u001b[0;34m=\u001b[0m\u001b[0musage_time\u001b[0m\u001b[0;34m,\u001b[0m\u001b[0mpalette\u001b[0m\u001b[0;34m=\u001b[0m\u001b[0;34m\"muted\"\u001b[0m\u001b[0;34m)\u001b[0m\u001b[0;34m;\u001b[0m\u001b[0;34m\u001b[0m\u001b[0m\n\u001b[1;32m      4\u001b[0m \u001b[0mplt\u001b[0m\u001b[0;34m.\u001b[0m\u001b[0mshow\u001b[0m\u001b[0;34m(\u001b[0m\u001b[0;34m)\u001b[0m\u001b[0;34m;\u001b[0m\u001b[0;34m\u001b[0m\u001b[0m\n",
      "\u001b[0;31mNameError\u001b[0m: name 'plt' is not defined"
     ]
    }
   ],
   "source": [
    "# Visualize the results\n",
    "plt.title(\"Feature usage time vs target churn\");\n",
    "sns.barplot(x=\"churn\", y=\"usageTime\", data=usage_time,palette=\"muted\");\n",
    "plt.show();"
   ]
  },
  {
   "cell_type": "markdown",
   "metadata": {},
   "source": [
    "### Feature 2 - Number of added Friends"
   ]
  },
  {
   "cell_type": "code",
   "execution_count": 28,
   "metadata": {},
   "outputs": [
    {
     "name": "stdout",
     "output_type": "stream",
     "text": [
      "+-----+------------------+\n",
      "|churn|           friends|\n",
      "+-----+------------------+\n",
      "|    0| 22.47530864197531|\n",
      "|    1|14.454545454545455|\n",
      "+-----+------------------+\n",
      "\n"
     ]
    }
   ],
   "source": [
    "# Assumption: Non-churned users add friends more frequently\n",
    "\n",
    "spark.sql(\"SELECT churn,count(1)/count(DISTINCT userId) AS friends FROM data_tbl\\\n",
    "            WHERE page = 'Add Friend' GROUP BY churn\").show();\n",
    "\n",
    "friends=spark.sql(\"SELECT churn,count(1)/count(DISTINCT userId) AS friends FROM data_tbl\\\n",
    "            WHERE page = 'Add Friend' GROUP BY churn\").toPandas();\n",
    "\n",
    "feature_add_friends = spark.sql(\"SELECT DISTINCT userId,count(1) as friends FROM data_tbl\\\n",
    "            WHERE page = 'Add Friend' GROUP BY userId\")\n",
    "\n",
    "feature_add_friends.createOrReplaceTempView('feature_add_friends_tbl')"
   ]
  },
  {
   "cell_type": "code",
   "execution_count": 62,
   "metadata": {},
   "outputs": [
    {
     "data": {
      "image/png": "[encoded data removed]",
      "text/plain": [
       "<matplotlib.figure.Figure at 0x7f7f88c74780>"
      ]
     },
     "metadata": {
      "needs_background": "light"
     },
     "output_type": "display_data"
    }
   ],
   "source": [
    "# Visualize the results\n",
    "plt.title(\"Feature friends vs target churn\");\n",
    "sns.barplot(x=\"churn\", y=\"friends\", data=friends);\n",
    "plt.show();"
   ]
  },
  {
   "cell_type": "markdown",
   "metadata": {},
   "source": [
    "### Feature 3 - Request help"
   ]
  },
  {
   "cell_type": "code",
   "execution_count": 30,
   "metadata": {},
   "outputs": [
    {
     "name": "stdout",
     "output_type": "stream",
     "text": [
      "+-----+-----------------+\n",
      "|churn|            help_|\n",
      "+-----+-----------------+\n",
      "|    0|9.913333333333334|\n",
      "|    1|5.558139534883721|\n",
      "+-----+-----------------+\n",
      "\n"
     ]
    }
   ],
   "source": [
    "# Assumption: Non-churned users contact the help more frequently\n",
    "spark.sql(\"SELECT churn,count(1)/count(DISTINCT userId) AS help_ FROM data_tbl\\\n",
    "            WHERE page = 'Help' GROUP BY churn\").show();\n",
    "\n",
    "help_1 = spark.sql(\"SELECT churn,count(1)/count(DISTINCT userID) AS help_ FROM data_tbl\\\n",
    "            WHERE page = 'Help' GROUP BY churn\").toPandas();\n",
    "\n",
    "feature_help = spark.sql(\"SELECT DISTINCT userId,count(1)/count(DISTINCT userID) AS help_ FROM data_tbl\\\n",
    "            WHERE page = 'Help' GROUP BY userId\");\n",
    "\n",
    "\n",
    "feature_help.createOrReplaceTempView('feature_help_tbl')"
   ]
  },
  {
   "cell_type": "code",
   "execution_count": 31,
   "metadata": {
    "scrolled": false
   },
   "outputs": [
    {
     "data": {
      "image/png": "[encoded data removed]",
      "text/plain": [
       "<matplotlib.figure.Figure at 0x7f7f88e9ef28>"
      ]
     },
     "metadata": {
      "needs_background": "light"
     },
     "output_type": "display_data"
    }
   ],
   "source": [
    "# Visualize the results\n",
    "plt.title(\"Feature help vs target churn\");\n",
    "sns.barplot(x=\"churn\", y=\"help_\", data=help_1);\n",
    "plt.show();"
   ]
  },
  {
   "cell_type": "markdown",
   "metadata": {},
   "source": [
    "### Feature 4 - Playlists"
   ]
  },
  {
   "cell_type": "code",
   "execution_count": 32,
   "metadata": {},
   "outputs": [
    {
     "name": "stdout",
     "output_type": "stream",
     "text": [
      "+-----+-----------------+\n",
      "|churn|         Playlist|\n",
      "+-----+-----------------+\n",
      "|    0|33.26060606060606|\n",
      "|    1|            20.76|\n",
      "+-----+-----------------+\n",
      "\n"
     ]
    }
   ],
   "source": [
    "# Assumption: Churned users have fewer playlists\n",
    "spark.sql(\"SELECT churn,count(1)/count(DISTINCT userId)  AS Playlist FROM data_tbl\\\n",
    "                        WHERE page ='Add to Playlist' GROUP BY churn\").show();\n",
    "\n",
    "playlist=spark.sql(\"SELECT churn,count(1)/count(DISTINCT userId)  AS Playlist FROM data_tbl\\\n",
    "                        WHERE page ='Add to Playlist' GROUP BY churn\").toPandas();\n",
    "\n",
    "feature_Playlist=spark.sql(\"SELECT DISTINCT(userId),count(1)/count(DISTINCT userId) AS Playlist FROM data_tbl\\\n",
    "            WHERE page ='Add to Playlist' GROUP BY userId\");\n",
    "\n",
    "feature_Playlist.createOrReplaceTempView('feature_Playlist_tbl');"
   ]
  },
  {
   "cell_type": "code",
   "execution_count": 33,
   "metadata": {},
   "outputs": [
    {
     "data": {
      "image/png": "[encoded data removed]",
      "text/plain": [
       "<matplotlib.figure.Figure at 0x7f7f88deeac8>"
      ]
     },
     "metadata": {
      "needs_background": "light"
     },
     "output_type": "display_data"
    }
   ],
   "source": [
    "# Visualize the results\n",
    "plt.title(\"Feature playlist vs target churn\");\n",
    "sns.barplot(x=\"churn\", y=\"Playlist\", data=playlist,palette=\"muted\");\n",
    "plt.show();"
   ]
  },
  {
   "cell_type": "markdown",
   "metadata": {},
   "source": [
    "### Feature 5 - Length Paid User"
   ]
  },
  {
   "cell_type": "code",
   "execution_count": 34,
   "metadata": {},
   "outputs": [
    {
     "name": "stdout",
     "output_type": "stream",
     "text": [
      "+-----+------------------+\n",
      "|churn|      lengthAsPaid|\n",
      "+-----+------------------+\n",
      "|    0|1505.2769230769231|\n",
      "|    1| 902.1111111111111|\n",
      "+-----+------------------+\n",
      "\n"
     ]
    }
   ],
   "source": [
    "# Assumption: The time of using payed services is longer for non-churned users\n",
    "spark.sql(\"SELECT churn,count(1)/count(DISTINCT userId) AS lengthAsPaid FROM data_tbl\\\n",
    "            WHERE level = 'paid' GROUP BY churn\").show();\n",
    "\n",
    "length_paid=spark.sql(\"SELECT churn,count(1)/count(DISTINCT userId) AS lengthAsPaid FROM data_tbl\\\n",
    "            WHERE level = 'paid' GROUP BY churn\").toPandas();\n",
    "\n",
    "feature_length_paid=spark.sql(\"SELECT DISTINCT userId,sum(nvl(length, 0)) AS lengthAsPaid FROM data_tbl\\\n",
    "            WHERE level = 'paid' GROUP BY userId\");\n",
    "\n",
    "\n",
    "feature_length_paid.createOrReplaceTempView('feature_length_paid_tbl')"
   ]
  },
  {
   "cell_type": "code",
   "execution_count": 35,
   "metadata": {
    "scrolled": true
   },
   "outputs": [
    {
     "data": {
      "image/png": "[encoded data removed]",
      "text/plain": [
       "<matplotlib.figure.Figure at 0x7f7f88dc9d68>"
      ]
     },
     "metadata": {
      "needs_background": "light"
     },
     "output_type": "display_data"
    }
   ],
   "source": [
    "# Visualize the results\n",
    "plt.title(\"Feature length paid vs target churn\");\n",
    "sns.barplot(x=\"churn\", y=\"lengthAsPaid\", data=length_paid,palette=\"muted\");\n",
    "plt.show();"
   ]
  },
  {
   "cell_type": "markdown",
   "metadata": {},
   "source": [
    "### Feature 6 - Length Free User"
   ]
  },
  {
   "cell_type": "code",
   "execution_count": 36,
   "metadata": {},
   "outputs": [
    {
     "name": "stdout",
     "output_type": "stream",
     "text": [
      "+-----+------------------+\n",
      "|churn|      lengthAsFree|\n",
      "+-----+------------------+\n",
      "|    0| 306.3333333333333|\n",
      "|    1|269.30434782608694|\n",
      "+-----+------------------+\n",
      "\n"
     ]
    }
   ],
   "source": [
    "# Assumption: Churned users have used free services less time\n",
    "\n",
    "spark.sql(\"SELECT churn,count(1)/count(DISTINCT userID) AS lengthAsFree FROM data_tbl\\\n",
    "            WHERE level = 'free' GROUP BY churn\").show();\n",
    "\n",
    "length_free=spark.sql(\"SELECT churn,count(1)/count(DISTINCT userID) AS lengthAsFree FROM data_tbl\\\n",
    "            WHERE level = 'free' GROUP BY churn\").toPandas();\n",
    "\n",
    "feature_length_free=spark.sql(\"SELECT DISTINCT(userId),count(1)/count(DISTINCT userId) AS lengthAsFree FROM data_tbl\\\n",
    "            WHERE level = 'free' GROUP BY userId\");\n",
    "\n",
    "\n",
    "feature_length_free.createOrReplaceTempView('feature_length_free_tbl')"
   ]
  },
  {
   "cell_type": "code",
   "execution_count": 37,
   "metadata": {},
   "outputs": [
    {
     "data": {
      "image/png": "[encoded data removed]",
      "text/plain": [
       "<matplotlib.figure.Figure at 0x7f7f88d51438>"
      ]
     },
     "metadata": {
      "needs_background": "light"
     },
     "output_type": "display_data"
    }
   ],
   "source": [
    "# Visualize the results\n",
    "plt.title(\"Feature length free vs target churn\");\n",
    "sns.barplot(x=\"churn\", y=\"lengthAsFree\", data=length_free);\n",
    "plt.show();"
   ]
  },
  {
   "cell_type": "markdown",
   "metadata": {},
   "source": [
    "## Create a new table and combine all features"
   ]
  },
  {
   "cell_type": "code",
   "execution_count": 38,
   "metadata": {},
   "outputs": [
    {
     "name": "stdout",
     "output_type": "stream",
     "text": [
      "+-----+----------+\n",
      "|label|Class_dist|\n",
      "+-----+----------+\n",
      "|    0|       174|\n",
      "|    1|        52|\n",
      "+-----+----------+\n",
      "\n"
     ]
    }
   ],
   "source": [
    "feature_table = spark.sql(\"SELECT a.userId,b.usageTime,c.friends,d.help_,\\\n",
    "    e.Playlist,f.lengthAsPaid,g.lengthAsFree,a.churn AS label FROM data_tbl AS a\\\n",
    "    LEFT OUTER JOIN feature_usage_time_tbl as b\\\n",
    "    ON a.userId=b.userId \\\n",
    "    LEFT OUTER JOIN feature_add_friends_tbl as c\\\n",
    "    ON b.userId=c.userId \\\n",
    "    LEFT OUTER JOIN feature_help_tbl as d\\\n",
    "    ON c.userId=d.userId \\\n",
    "    LEFT OUTER JOIN feature_Playlist_tbl as e\\\n",
    "    ON d.userId=e.userId \\\n",
    "    LEFT OUTER JOIN feature_length_paid_tbl as f\\\n",
    "    ON e.userId=f.userId \\\n",
    "    LEFT OUTER JOIN feature_length_free_tbl as g\\\n",
    "    ON f.userId=g.userId\");\n",
    "\n",
    "feature_table.createOrReplaceTempView('feature_table')\n",
    "\n",
    "# Class distribution valid?\n",
    "spark.sql(\"select label,count(distinct userId) as Class_dist from feature_table group by label\").show()"
   ]
  },
  {
   "cell_type": "code",
   "execution_count": 39,
   "metadata": {},
   "outputs": [],
   "source": [
    "features = spark.sql(\"\"\"\n",
    "    SELECT\n",
    "        nvl(userId,0) as userId,\n",
    "        nvl(usageTime,0) as usageTime,\n",
    "        nvl(friends,0) as friends,\n",
    "        nvl(help_,0) as help_,\n",
    "        nvl(Playlist,0) as Playlist,\n",
    "        nvl(lengthAsPaid,0) as lengthAsPaid,\n",
    "        nvl(lengthAsFree,0) as lengthAsFree\n",
    "    FROM\n",
    "        feature_table\n",
    "    \"\"\")\n",
    "\n",
    "features.createOrReplaceTempView('feature_table')"
   ]
  },
  {
   "cell_type": "code",
   "execution_count": 40,
   "metadata": {},
   "outputs": [],
   "source": [
    "# Include the target label\n",
    "targets = spark.sql(\"SELECT DISTINCT userId,churn as label FROM data_tbl\")\n",
    "\n",
    "targets.createOrReplaceTempView('targets_tbl')"
   ]
  },
  {
   "cell_type": "code",
   "execution_count": 41,
   "metadata": {},
   "outputs": [],
   "source": [
    "features = spark.sql(\"SELECT f.*,CAST(t.label AS INT) AS label FROM feature_table as f,targets_tbl as t\\\n",
    "            WHERE f.userId=t.userId\")\n",
    "\n",
    "features.createOrReplaceTempView('feature_table')"
   ]
  },
  {
   "cell_type": "markdown",
   "metadata": {},
   "source": [
    "## Machine Learning to Predict Churn\n",
    "Train a binary classifier to predict churn. Different models are being used."
   ]
  },
  {
   "cell_type": "code",
   "execution_count": 42,
   "metadata": {},
   "outputs": [],
   "source": [
    "# Vectorize and scale the features\n",
    "assembler = VectorAssembler(inputCols=[\"lengthAsFree\", \"lengthAsPaid\", \"help_\", \"friends\", \"usageTime\", 'Playlist'], outputCol=\"AllFeatures\")\n",
    "scaler = Normalizer(inputCol=\"AllFeatures\", outputCol=\"ScaledAllFeatures\")"
   ]
  },
  {
   "cell_type": "code",
   "execution_count": 43,
   "metadata": {},
   "outputs": [],
   "source": [
    "# Create two different models and wrap them in a pipeline object\n",
    "model_lr = LogisticRegression(featuresCol=\"ScaledAllFeatures\", labelCol=\"label\", maxIter=20, regParam=0.01)\n",
    "model_gbt = GBTClassifier(featuresCol=\"ScaledAllFeatures\", labelCol=\"label\")\n",
    "\n",
    "pipeline_lr = Pipeline(stages=[assembler, scaler, model_lr])\n",
    "pipeline_gbt = Pipeline(stages=[assembler, scaler, model_gbt])"
   ]
  },
  {
   "cell_type": "code",
   "execution_count": 44,
   "metadata": {},
   "outputs": [],
   "source": [
    "# Use 80 % of the data for training and 20 % of the data for testing\n",
    "training, test = features.randomSplit([0.8, 0.2])"
   ]
  },
  {
   "cell_type": "code",
   "execution_count": 45,
   "metadata": {},
   "outputs": [],
   "source": [
    "# Use the fit method and train the models on the training data\n",
    "model_lr_fitted = pipeline_lr.fit(training)\n",
    "model_gbt_fitted = pipeline_gbt.fit(training)"
   ]
  },
  {
   "cell_type": "code",
   "execution_count": 46,
   "metadata": {},
   "outputs": [],
   "source": [
    "# Define a helper function to evaluate the performance of the models\n",
    "def model_performance(model, test_data, metric = 'f1'):\n",
    "    \"\"\" Evaluate a machine learning model's performance \n",
    "    \n",
    "        Input: \n",
    "            model(object) - trained model or pipeline object\n",
    "            metric - the metric used to measure performance\n",
    "            data - test data on which performance measurement should be performed\n",
    "        Output:\n",
    "            score\n",
    "    \"\"\"\n",
    "    \n",
    "    evaluator = MulticlassClassificationEvaluator(metricName = metric)\n",
    "    predictions = model.transform(test_data)\n",
    "    \n",
    "    # Calcualte the score\n",
    "    score = evaluator.evaluate(predictions)\n",
    "    \n",
    "    return score"
   ]
  },
  {
   "cell_type": "code",
   "execution_count": 47,
   "metadata": {},
   "outputs": [
    {
     "data": {
      "text/plain": [
       "0.7699773732592362"
      ]
     },
     "execution_count": 47,
     "metadata": {},
     "output_type": "execute_result"
    }
   ],
   "source": [
    "# Performance of the logistic regression model\n",
    "model_performance(model_lr_fitted, test)"
   ]
  },
  {
   "cell_type": "code",
   "execution_count": 48,
   "metadata": {},
   "outputs": [
    {
     "data": {
      "text/plain": [
       "0.9951519732209986"
      ]
     },
     "execution_count": 48,
     "metadata": {},
     "output_type": "execute_result"
    }
   ],
   "source": [
    "# Performance of the GBT classifier model\n",
    "model_performance(model_gbt_fitted, test)"
   ]
  },
  {
   "cell_type": "markdown",
   "metadata": {},
   "source": [
    "The GBT classifier model performs best in terms of the f1-score."
   ]
  },
  {
   "cell_type": "code",
   "execution_count": 49,
   "metadata": {},
   "outputs": [],
   "source": [
    "def do_preprocessing(feature_cols, model):\n",
    "    \"\"\"Vectorizes and Scales all features\n",
    "    Input:\n",
    "        feature_cols(list): name of the feature columns in the Spark Data Frame\n",
    "        model(object): Spark machine Learning model object \n",
    "    Output:\n",
    "        pipeline(object): Spark Pipeline object\n",
    "    \n",
    "    \"\"\"\n",
    "    assembler = VectorAssembler(inputCols=feature_cols, outputCol=\"AllFeatures\")\n",
    "    scaler = Normalizer(inputCol=\"AllFeatures\", outputCol=\"ScaledAllFeatures\")\n",
    "    pipeline = Pipeline(stages=[assembler, scaler, model])\n",
    "    \n",
    "    return pipeline"
   ]
  },
  {
   "cell_type": "markdown",
   "metadata": {},
   "source": [
    "### Improvements\n",
    "In this section I will try to improve the model performance as I will include two additional features. I will also try out an additional Machine Learning Model: Random Forest Classifier."
   ]
  },
  {
   "cell_type": "code",
   "execution_count": 50,
   "metadata": {},
   "outputs": [],
   "source": [
    "# Feature 7 - Include a new feature: Thumbs up\n",
    "feature_thumbs_up = spark.sql(\"SELECT DISTINCT userId,count(1) AS n_ThumbsUp FROM data_tbl\\\n",
    "            WHERE page = 'Thumbs Up' GROUP BY userId\")\n",
    "\n",
    "feature_thumbs_up.createOrReplaceTempView('feature_thumbs_up_tbl')"
   ]
  },
  {
   "cell_type": "code",
   "execution_count": 51,
   "metadata": {},
   "outputs": [],
   "source": [
    "feature_thumbs_up = spark.sql(\"SELECT DISTINCT d.userId,nvl(n_ThumbsUp,0) AS n_ThumbsUp FROM data_tbl\\\n",
    "            AS d LEFT JOIN feature_thumbs_up_tbl AS f ON d.userId=f.userId\")"
   ]
  },
  {
   "cell_type": "code",
   "execution_count": 52,
   "metadata": {},
   "outputs": [],
   "source": [
    "# Feature 8 - Include a new feature: Thumbs down\n",
    "feature_thumbs_down = spark.sql(\"SELECT DISTINCT userId,count(1) AS n_ThumbsDown FROM data_tbl\\\n",
    "            WHERE page = 'Thumbs Down' GROUP BY userId\")\n",
    "\n",
    "feature_thumbs_down.createOrReplaceTempView('feature_thumbs_down_tbl')"
   ]
  },
  {
   "cell_type": "code",
   "execution_count": 53,
   "metadata": {},
   "outputs": [],
   "source": [
    "feature_thumbs_down = spark.sql(\"SELECT DISTINCT d.userId,nvl(n_ThumbsDown,0) AS n_ThumbsDown FROM data_tbl\\\n",
    "            AS d LEFT JOIN feature_thumbs_down_tbl AS f ON d.userId=f.userId\")"
   ]
  },
  {
   "cell_type": "code",
   "execution_count": 54,
   "metadata": {},
   "outputs": [],
   "source": [
    "# Combine the old and new features\n",
    "features = spark.sql(\"SELECT f.*,n_ThumbsUp,n_ThumbsDown FROM feature_table\\\n",
    "            AS f,feature_thumbs_down_tbl AS d,feature_thumbs_up_tbl AS u\\\n",
    "            WHERE f.userId = d.userId AND d.userId = u.userId\")"
   ]
  },
  {
   "cell_type": "code",
   "execution_count": 55,
   "metadata": {},
   "outputs": [],
   "source": [
    "# Build new models with the additional features\n",
    "feature_cols = [\"lengthAsFree\", \"lengthAsPaid\", \"help_\", \"friends\", \"usageTime\", \"Playlist\", \"n_ThumbsUp\", \"n_ThumbsDown\"]"
   ]
  },
  {
   "cell_type": "code",
   "execution_count": 56,
   "metadata": {},
   "outputs": [],
   "source": [
    "# Create three different models and wrap them in a pipeline object\n",
    "model_lr = LogisticRegression(featuresCol=\"ScaledAllFeatures\", labelCol=\"label\", maxIter=20, regParam=0.01)\n",
    "model_gbt = GBTClassifier(featuresCol=\"ScaledAllFeatures\", labelCol=\"label\")\n",
    "model_rf = RandomForestClassifier(featuresCol=\"ScaledAllFeatures\", labelCol=\"label\")\n",
    "\n",
    "pipeline_lr = do_preprocessing(feature_cols, model_lr)\n",
    "pipeline_gbt = do_preprocessing(feature_cols, model_gbt)\n",
    "pipeline_rf = do_preprocessing(feature_cols, model_rf)"
   ]
  },
  {
   "cell_type": "code",
   "execution_count": 57,
   "metadata": {},
   "outputs": [],
   "source": [
    "# Use 80 % of the data for training and 20 % of the data for testing\n",
    "training, test = features.randomSplit([0.8, 0.2])"
   ]
  },
  {
   "cell_type": "code",
   "execution_count": 58,
   "metadata": {},
   "outputs": [],
   "source": [
    "# Use the fit method and train the models on the training data\n",
    "model_fitted_lr = pipeline_lr.fit(training)\n",
    "model_fitted_gbt = pipeline_gbt.fit(training)\n",
    "model_fitted_rf = pipeline_rf.fit(training)"
   ]
  },
  {
   "cell_type": "code",
   "execution_count": 59,
   "metadata": {},
   "outputs": [
    {
     "data": {
      "text/plain": [
       "0.7767079400719782"
      ]
     },
     "execution_count": 59,
     "metadata": {},
     "output_type": "execute_result"
    }
   ],
   "source": [
    "# Performance of the logistic regression model\n",
    "model_performance(model_fitted_lr, test)"
   ]
  },
  {
   "cell_type": "code",
   "execution_count": 60,
   "metadata": {},
   "outputs": [
    {
     "data": {
      "text/plain": [
       "0.9957086918191329"
      ]
     },
     "execution_count": 60,
     "metadata": {},
     "output_type": "execute_result"
    }
   ],
   "source": [
    "# Performance of the GBT classifier\n",
    "model_performance(model_fitted_gbt, test)"
   ]
  },
  {
   "cell_type": "code",
   "execution_count": 61,
   "metadata": {},
   "outputs": [
    {
     "data": {
      "text/plain": [
       "0.9248557896618619"
      ]
     },
     "execution_count": 61,
     "metadata": {},
     "output_type": "execute_result"
    }
   ],
   "source": [
    "# Performance of the ramdon forrest classifier\n",
    "model_performance(model_fitted_rf, test)"
   ]
  },
  {
   "cell_type": "markdown",
   "metadata": {},
   "source": [
    "Result: The newly introduced Random Forest Classifier with the additional features performs best."
   ]
  }
 ],
 "metadata": {
  "kernelspec": {
   "display_name": "Python 3",
   "language": "python",
   "name": "python3"
  },
  "language_info": {
   "codemirror_mode": {
    "name": "ipython",
    "version": 3
   },
   "file_extension": ".py",
   "mimetype": "text/x-python",
   "name": "python",
   "nbconvert_exporter": "python",
   "pygments_lexer": "ipython3",
   "version": "3.6.3"
  }
 },
 "nbformat": 4,
 "nbformat_minor": 2
}
